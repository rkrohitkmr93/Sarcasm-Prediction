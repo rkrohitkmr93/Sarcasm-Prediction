{
 "cells": [
  {
   "cell_type": "code",
   "execution_count": 344,
   "metadata": {},
   "outputs": [],
   "source": [
    "import pandas as pd\n",
    "import numpy as np"
   ]
  },
  {
   "cell_type": "code",
   "execution_count": 347,
   "metadata": {},
   "outputs": [
    {
     "data": {
      "text/html": [
       "<div>\n",
       "<style scoped>\n",
       "    .dataframe tbody tr th:only-of-type {\n",
       "        vertical-align: middle;\n",
       "    }\n",
       "\n",
       "    .dataframe tbody tr th {\n",
       "        vertical-align: top;\n",
       "    }\n",
       "\n",
       "    .dataframe thead th {\n",
       "        text-align: right;\n",
       "    }\n",
       "</style>\n",
       "<table border=\"1\" class=\"dataframe\">\n",
       "  <thead>\n",
       "    <tr style=\"text-align: right;\">\n",
       "      <th></th>\n",
       "      <th>article_link</th>\n",
       "      <th>headline</th>\n",
       "      <th>is_sarcastic</th>\n",
       "    </tr>\n",
       "  </thead>\n",
       "  <tbody>\n",
       "    <tr>\n",
       "      <th>0</th>\n",
       "      <td>https://www.huffingtonpost.com/entry/versace-b...</td>\n",
       "      <td>former versace store clerk sues over secret 'b...</td>\n",
       "      <td>0</td>\n",
       "    </tr>\n",
       "    <tr>\n",
       "      <th>1</th>\n",
       "      <td>https://www.huffingtonpost.com/entry/roseanne-...</td>\n",
       "      <td>the 'roseanne' revival catches up to our thorn...</td>\n",
       "      <td>0</td>\n",
       "    </tr>\n",
       "    <tr>\n",
       "      <th>2</th>\n",
       "      <td>https://local.theonion.com/mom-starting-to-fea...</td>\n",
       "      <td>mom starting to fear son's web series closest ...</td>\n",
       "      <td>1</td>\n",
       "    </tr>\n",
       "    <tr>\n",
       "      <th>3</th>\n",
       "      <td>https://politics.theonion.com/boehner-just-wan...</td>\n",
       "      <td>boehner just wants wife to listen, not come up...</td>\n",
       "      <td>1</td>\n",
       "    </tr>\n",
       "    <tr>\n",
       "      <th>4</th>\n",
       "      <td>https://www.huffingtonpost.com/entry/jk-rowlin...</td>\n",
       "      <td>j.k. rowling wishes snape happy birthday in th...</td>\n",
       "      <td>0</td>\n",
       "    </tr>\n",
       "  </tbody>\n",
       "</table>\n",
       "</div>"
      ],
      "text/plain": [
       "                                        article_link  \\\n",
       "0  https://www.huffingtonpost.com/entry/versace-b...   \n",
       "1  https://www.huffingtonpost.com/entry/roseanne-...   \n",
       "2  https://local.theonion.com/mom-starting-to-fea...   \n",
       "3  https://politics.theonion.com/boehner-just-wan...   \n",
       "4  https://www.huffingtonpost.com/entry/jk-rowlin...   \n",
       "\n",
       "                                            headline  is_sarcastic  \n",
       "0  former versace store clerk sues over secret 'b...             0  \n",
       "1  the 'roseanne' revival catches up to our thorn...             0  \n",
       "2  mom starting to fear son's web series closest ...             1  \n",
       "3  boehner just wants wife to listen, not come up...             1  \n",
       "4  j.k. rowling wishes snape happy birthday in th...             0  "
      ]
     },
     "execution_count": 347,
     "metadata": {},
     "output_type": "execute_result"
    }
   ],
   "source": [
    "#loading the train data\n",
    "df_train = pd.read_json(\"train.json\", lines = True)\n",
    "df_train.head()"
   ]
  },
  {
   "cell_type": "code",
   "execution_count": 351,
   "metadata": {},
   "outputs": [
    {
     "data": {
      "text/html": [
       "        <script type=\"text/javascript\">\n",
       "        window.PlotlyConfig = {MathJaxConfig: 'local'};\n",
       "        if (window.MathJax) {MathJax.Hub.Config({SVG: {font: \"STIX-Web\"}});}\n",
       "        if (typeof require !== 'undefined') {\n",
       "        require.undef(\"plotly\");\n",
       "        requirejs.config({\n",
       "            paths: {\n",
       "                'plotly': ['https://cdn.plot.ly/plotly-latest.min']\n",
       "            }\n",
       "        });\n",
       "        require(['plotly'], function(Plotly) {\n",
       "            window._Plotly = Plotly;\n",
       "        });\n",
       "        }\n",
       "        </script>\n",
       "        "
      ]
     },
     "metadata": {},
     "output_type": "display_data"
    },
    {
     "data": {
      "application/vnd.plotly.v1+json": {
       "config": {
        "linkText": "Export to plot.ly",
        "plotlyServerURL": "https://plot.ly",
        "responsive": true,
        "showLink": false
       },
       "data": [
        {
         "labels": [
          "Sarcastic",
          "Not Sarcastic"
         ],
         "marker": {
          "colors": [
           "#FFFF00",
           "#2424FF"
          ]
         },
         "textfont": {
          "color": "#000000",
          "size": 19
         },
         "type": "pie",
         "uid": "7693c395-9837-4a14-8656-21437bd77de4",
         "values": [
          10667,
          13542
         ]
        }
       ],
       "layout": {
        "title": {
         "text": "<b>Sarcastic vs Not Sarcastic</b>"
        }
       }
      },
      "text/html": [
       "<div>\n",
       "        \n",
       "        \n",
       "            <div id=\"aa1a434b-4d68-4120-9e5f-c18fcfbde1c1\" class=\"plotly-graph-div\" style=\"height:525px; width:100%;\"></div>\n",
       "            <script type=\"text/javascript\">\n",
       "                require([\"plotly\"], function(Plotly) {\n",
       "                    window.PLOTLYENV=window.PLOTLYENV || {};\n",
       "                    window.PLOTLYENV.BASE_URL='https://plot.ly';\n",
       "                    \n",
       "                if (document.getElementById(\"aa1a434b-4d68-4120-9e5f-c18fcfbde1c1\")) {\n",
       "                    Plotly.newPlot(\n",
       "                        'aa1a434b-4d68-4120-9e5f-c18fcfbde1c1',\n",
       "                        [{\"labels\": [\"Sarcastic\", \"Not Sarcastic\"], \"marker\": {\"colors\": [\"#FFFF00\", \"#2424FF\"]}, \"textfont\": {\"color\": \"#000000\", \"size\": 19}, \"type\": \"pie\", \"uid\": \"2fed46b8-8235-4fef-a50b-e9c63a2548fc\", \"values\": [10667, 13542]}],\n",
       "                        {\"title\": {\"text\": \"<b>Sarcastic vs Not Sarcastic</b>\"}},\n",
       "                        {\"showLink\": false, \"linkText\": \"Export to plot.ly\", \"plotlyServerURL\": \"https://plot.ly\", \"responsive\": true}\n",
       "                    ).then(function(){\n",
       "                            \n",
       "var gd = document.getElementById('aa1a434b-4d68-4120-9e5f-c18fcfbde1c1');\n",
       "var x = new MutationObserver(function (mutations, observer) {{\n",
       "        var display = window.getComputedStyle(gd).display;\n",
       "        if (!display || display === 'none') {{\n",
       "            console.log([gd, 'removed!']);\n",
       "            Plotly.purge(gd);\n",
       "            observer.disconnect();\n",
       "        }}\n",
       "}});\n",
       "\n",
       "// Listen for the removal of the full notebook cells\n",
       "var notebookContainer = gd.closest('#notebook-container');\n",
       "if (notebookContainer) {{\n",
       "    x.observe(notebookContainer, {childList: true});\n",
       "}}\n",
       "\n",
       "// Listen for the clearing of the current output cell\n",
       "var outputEl = gd.closest('.output');\n",
       "if (outputEl) {{\n",
       "    x.observe(outputEl, {childList: true});\n",
       "}}\n",
       "\n",
       "                        })\n",
       "                };\n",
       "                });\n",
       "            </script>\n",
       "        </div>"
      ]
     },
     "metadata": {},
     "output_type": "display_data"
    }
   ],
   "source": [
    "#To know the percentage of both sarcasm and non-sarcasm headlines\n",
    "\n",
    "import plotly as py\n",
    "from plotly import graph_objs as go\n",
    "from plotly.offline import iplot, init_notebook_mode\n",
    "init_notebook_mode(connected=True)\n",
    "\n",
    "#before cleaning the data\n",
    "# Making pie chart to compare the numbers of sarcastic and not-sarcastic headlines\n",
    "labels = ['Sarcastic', 'Not Sarcastic']\n",
    "count_sarcastic = len(df_train[df_train['is_sarcastic']==1])\n",
    "count_notsarcastic = len(df_train[df_train['is_sarcastic']==0])\n",
    "values = [count_sarcastic, count_notsarcastic]\n",
    "# values = [20,50]\n",
    "\n",
    "trace = go.Pie(labels=labels,\n",
    "               values=values,\n",
    "               textfont=dict(size=19, color='#000000'),\n",
    "               marker=dict(\n",
    "                   colors=['#FFFF00', '#2424FF'] \n",
    "               )\n",
    "              )\n",
    "\n",
    "layout = go.Layout(title = '<b>Sarcastic vs Not Sarcastic</b>')\n",
    "data = [trace]\n",
    "fig = go.Figure(data=data, layout=layout)\n",
    "\n",
    "iplot(fig)"
   ]
  },
  {
   "cell_type": "code",
   "execution_count": 352,
   "metadata": {},
   "outputs": [
    {
     "data": {
      "text/html": [
       "<div>\n",
       "<style scoped>\n",
       "    .dataframe tbody tr th:only-of-type {\n",
       "        vertical-align: middle;\n",
       "    }\n",
       "\n",
       "    .dataframe tbody tr th {\n",
       "        vertical-align: top;\n",
       "    }\n",
       "\n",
       "    .dataframe thead th {\n",
       "        text-align: right;\n",
       "    }\n",
       "</style>\n",
       "<table border=\"1\" class=\"dataframe\">\n",
       "  <thead>\n",
       "    <tr style=\"text-align: right;\">\n",
       "      <th></th>\n",
       "      <th>article_link</th>\n",
       "      <th>headline</th>\n",
       "    </tr>\n",
       "  </thead>\n",
       "  <tbody>\n",
       "    <tr>\n",
       "      <th>0</th>\n",
       "      <td>https://www.huffingtonpost.com/entry/trump-org...</td>\n",
       "      <td>trump letter resigning from hundreds of compan...</td>\n",
       "    </tr>\n",
       "    <tr>\n",
       "      <th>1</th>\n",
       "      <td>https://www.theonion.com/aquarium-unveils-floa...</td>\n",
       "      <td>aquarium unveils 'floating carcasses of the pa...</td>\n",
       "    </tr>\n",
       "    <tr>\n",
       "      <th>2</th>\n",
       "      <td>https://entertainment.theonion.com/early-human...</td>\n",
       "      <td>early humans finally drunk enough to invent da...</td>\n",
       "    </tr>\n",
       "    <tr>\n",
       "      <th>3</th>\n",
       "      <td>https://www.huffingtonpost.com/entry/colorados...</td>\n",
       "      <td>colorado's new revenge porn statute is good la...</td>\n",
       "    </tr>\n",
       "    <tr>\n",
       "      <th>4</th>\n",
       "      <td>https://www.huffingtonpost.com/entry/donate-eg...</td>\n",
       "      <td>i donated my eggs so i could travel the world</td>\n",
       "    </tr>\n",
       "  </tbody>\n",
       "</table>\n",
       "</div>"
      ],
      "text/plain": [
       "                                        article_link  \\\n",
       "0  https://www.huffingtonpost.com/entry/trump-org...   \n",
       "1  https://www.theonion.com/aquarium-unveils-floa...   \n",
       "2  https://entertainment.theonion.com/early-human...   \n",
       "3  https://www.huffingtonpost.com/entry/colorados...   \n",
       "4  https://www.huffingtonpost.com/entry/donate-eg...   \n",
       "\n",
       "                                            headline  \n",
       "0  trump letter resigning from hundreds of compan...  \n",
       "1  aquarium unveils 'floating carcasses of the pa...  \n",
       "2  early humans finally drunk enough to invent da...  \n",
       "3  colorado's new revenge porn statute is good la...  \n",
       "4      i donated my eggs so i could travel the world  "
      ]
     },
     "execution_count": 352,
     "metadata": {},
     "output_type": "execute_result"
    }
   ],
   "source": [
    "#load the test data\n",
    "df_test = pd.read_json(\"test.json\", lines = True)\n",
    "df_test.head()"
   ]
  },
  {
   "cell_type": "code",
   "execution_count": 353,
   "metadata": {},
   "outputs": [
    {
     "data": {
      "text/html": [
       "<div>\n",
       "<style scoped>\n",
       "    .dataframe tbody tr th:only-of-type {\n",
       "        vertical-align: middle;\n",
       "    }\n",
       "\n",
       "    .dataframe tbody tr th {\n",
       "        vertical-align: top;\n",
       "    }\n",
       "\n",
       "    .dataframe thead th {\n",
       "        text-align: right;\n",
       "    }\n",
       "</style>\n",
       "<table border=\"1\" class=\"dataframe\">\n",
       "  <thead>\n",
       "    <tr style=\"text-align: right;\">\n",
       "      <th></th>\n",
       "      <th>article_link</th>\n",
       "      <th>headline</th>\n",
       "    </tr>\n",
       "  </thead>\n",
       "  <tbody>\n",
       "    <tr>\n",
       "      <th>0</th>\n",
       "      <td>https://www.huffingtonpost.com/entry/versace-b...</td>\n",
       "      <td>former versace store clerk sues over secret 'b...</td>\n",
       "    </tr>\n",
       "    <tr>\n",
       "      <th>1</th>\n",
       "      <td>https://www.huffingtonpost.com/entry/roseanne-...</td>\n",
       "      <td>the 'roseanne' revival catches up to our thorn...</td>\n",
       "    </tr>\n",
       "    <tr>\n",
       "      <th>2</th>\n",
       "      <td>https://local.theonion.com/mom-starting-to-fea...</td>\n",
       "      <td>mom starting to fear son's web series closest ...</td>\n",
       "    </tr>\n",
       "    <tr>\n",
       "      <th>3</th>\n",
       "      <td>https://politics.theonion.com/boehner-just-wan...</td>\n",
       "      <td>boehner just wants wife to listen, not come up...</td>\n",
       "    </tr>\n",
       "    <tr>\n",
       "      <th>4</th>\n",
       "      <td>https://www.huffingtonpost.com/entry/jk-rowlin...</td>\n",
       "      <td>j.k. rowling wishes snape happy birthday in th...</td>\n",
       "    </tr>\n",
       "  </tbody>\n",
       "</table>\n",
       "</div>"
      ],
      "text/plain": [
       "                                        article_link  \\\n",
       "0  https://www.huffingtonpost.com/entry/versace-b...   \n",
       "1  https://www.huffingtonpost.com/entry/roseanne-...   \n",
       "2  https://local.theonion.com/mom-starting-to-fea...   \n",
       "3  https://politics.theonion.com/boehner-just-wan...   \n",
       "4  https://www.huffingtonpost.com/entry/jk-rowlin...   \n",
       "\n",
       "                                            headline  \n",
       "0  former versace store clerk sues over secret 'b...  \n",
       "1  the 'roseanne' revival catches up to our thorn...  \n",
       "2  mom starting to fear son's web series closest ...  \n",
       "3  boehner just wants wife to listen, not come up...  \n",
       "4  j.k. rowling wishes snape happy birthday in th...  "
      ]
     },
     "execution_count": 353,
     "metadata": {},
     "output_type": "execute_result"
    }
   ],
   "source": [
    "df3 = pd.DataFrame(df_train, columns = ['article_link', 'headline'])\n",
    "df3.head()"
   ]
  },
  {
   "cell_type": "code",
   "execution_count": 354,
   "metadata": {},
   "outputs": [
    {
     "name": "stdout",
     "output_type": "stream",
     "text": [
      "<class 'pandas.core.frame.DataFrame'>\n",
      "RangeIndex: 24209 entries, 0 to 24208\n",
      "Data columns (total 2 columns):\n",
      "article_link    24209 non-null object\n",
      "headline        24209 non-null object\n",
      "dtypes: object(2)\n",
      "memory usage: 378.3+ KB\n"
     ]
    }
   ],
   "source": [
    "df3.info()"
   ]
  },
  {
   "cell_type": "code",
   "execution_count": 355,
   "metadata": {},
   "outputs": [
    {
     "data": {
      "text/html": [
       "<div>\n",
       "<style scoped>\n",
       "    .dataframe tbody tr th:only-of-type {\n",
       "        vertical-align: middle;\n",
       "    }\n",
       "\n",
       "    .dataframe tbody tr th {\n",
       "        vertical-align: top;\n",
       "    }\n",
       "\n",
       "    .dataframe thead th {\n",
       "        text-align: right;\n",
       "    }\n",
       "</style>\n",
       "<table border=\"1\" class=\"dataframe\">\n",
       "  <thead>\n",
       "    <tr style=\"text-align: right;\">\n",
       "      <th></th>\n",
       "      <th>article_link</th>\n",
       "      <th>headline</th>\n",
       "    </tr>\n",
       "  </thead>\n",
       "  <tbody>\n",
       "    <tr>\n",
       "      <th>0</th>\n",
       "      <td>https://www.huffingtonpost.com/entry/versace-b...</td>\n",
       "      <td>former versace store clerk sues over secret 'b...</td>\n",
       "    </tr>\n",
       "    <tr>\n",
       "      <th>1</th>\n",
       "      <td>https://www.huffingtonpost.com/entry/roseanne-...</td>\n",
       "      <td>the 'roseanne' revival catches up to our thorn...</td>\n",
       "    </tr>\n",
       "    <tr>\n",
       "      <th>2</th>\n",
       "      <td>https://local.theonion.com/mom-starting-to-fea...</td>\n",
       "      <td>mom starting to fear son's web series closest ...</td>\n",
       "    </tr>\n",
       "    <tr>\n",
       "      <th>3</th>\n",
       "      <td>https://politics.theonion.com/boehner-just-wan...</td>\n",
       "      <td>boehner just wants wife to listen, not come up...</td>\n",
       "    </tr>\n",
       "    <tr>\n",
       "      <th>4</th>\n",
       "      <td>https://www.huffingtonpost.com/entry/jk-rowlin...</td>\n",
       "      <td>j.k. rowling wishes snape happy birthday in th...</td>\n",
       "    </tr>\n",
       "  </tbody>\n",
       "</table>\n",
       "</div>"
      ],
      "text/plain": [
       "                                        article_link  \\\n",
       "0  https://www.huffingtonpost.com/entry/versace-b...   \n",
       "1  https://www.huffingtonpost.com/entry/roseanne-...   \n",
       "2  https://local.theonion.com/mom-starting-to-fea...   \n",
       "3  https://politics.theonion.com/boehner-just-wan...   \n",
       "4  https://www.huffingtonpost.com/entry/jk-rowlin...   \n",
       "\n",
       "                                            headline  \n",
       "0  former versace store clerk sues over secret 'b...  \n",
       "1  the 'roseanne' revival catches up to our thorn...  \n",
       "2  mom starting to fear son's web series closest ...  \n",
       "3  boehner just wants wife to listen, not come up...  \n",
       "4  j.k. rowling wishes snape happy birthday in th...  "
      ]
     },
     "execution_count": 355,
     "metadata": {},
     "output_type": "execute_result"
    }
   ],
   "source": [
    "#merge both train and test data columns(article_link, headline) \n",
    "#so that preprocessing will have to do only one time\n",
    "\n",
    "frame = [df3, df_test]\n",
    "df = pd.concat(frame, ignore_index=True)\n",
    "df.head()"
   ]
  },
  {
   "cell_type": "code",
   "execution_count": 289,
   "metadata": {},
   "outputs": [
    {
     "name": "stdout",
     "output_type": "stream",
     "text": [
      "<class 'pandas.core.frame.DataFrame'>\n",
      "Int64Index: 26709 entries, 0 to 2499\n",
      "Data columns (total 2 columns):\n",
      "article_link    26709 non-null object\n",
      "headline        26709 non-null object\n",
      "dtypes: object(2)\n",
      "memory usage: 626.0+ KB\n"
     ]
    }
   ],
   "source": [
    "df.info()"
   ]
  },
  {
   "cell_type": "code",
   "execution_count": 356,
   "metadata": {},
   "outputs": [
    {
     "name": "stdout",
     "output_type": "stream",
     "text": [
      "1 former versace store clerk sues over secret 'black code' for minority shoppers\n",
      "2 the 'roseanne' revival catches up to our thorny political mood, for better and worse\n",
      "3 mom starting to fear son's web series closest thing she will have to grandchild\n",
      "4 boehner just wants wife to listen, not come up with alternative debt-reduction ideas\n",
      "5 j.k. rowling wishes snape happy birthday in the most magical way\n",
      "6 advancing the world's women\n",
      "7 the fascinating case for eating lab-grown meat\n",
      "8 this ceo will send your kids to school, if you work for his company\n",
      "9 top snake handler leaves sinking huckabee campaign\n",
      "10 friday's morning email: inside trump's presser for the ages\n",
      "11 airline passengers tackle man who rushes cockpit in bomb threat\n",
      "12 facebook reportedly working on healthcare features and apps\n",
      "13 north korea praises trump and urges us voters to reject 'dull hillary'\n",
      "14 actually, cnn's jeffrey lord has been 'indefensible' for a while\n",
      "15 barcelona holds huge protest in support of refugees\n",
      "16 nuclear bomb detonates during rehearsal for 'spider-man' musical\n",
      "17 cosby lawyer asks why accusers didn't come forward to be smeared by legal team years ago\n",
      "18 stock analysts confused, frightened by boar market\n",
      "19 bloomberg's program to build better cities just got bigger\n",
      "20 craig hicks indicted\n"
     ]
    }
   ],
   "source": [
    "#check the headline column\n",
    "for i,headline in enumerate (df['headline'], 1):\n",
    "    if i > 20:\n",
    "        break\n",
    "    else:\n",
    "        print(i, headline)"
   ]
  },
  {
   "cell_type": "code",
   "execution_count": 357,
   "metadata": {},
   "outputs": [
    {
     "name": "stdout",
     "output_type": "stream",
     "text": [
      "Original texts :\n",
      "the 'roseanne' revival catches up to our thorny political mood, for better and worse\n",
      "\n",
      "After cleansed :\n",
      "the roseanne revival catches up to our thorny political mood for better and worse\n"
     ]
    }
   ],
   "source": [
    "#To remove punctuations, digits and numbers\n",
    "#Text cleaning\n",
    "\n",
    "import string\n",
    "from string import digits, punctuation\n",
    "\n",
    "hl_cleansed = []\n",
    "for hl in df['headline']:\n",
    "    #Remove punctuations\n",
    "    clean = hl.translate(str.maketrans('', '', punctuation))\n",
    "    #Remove digits/numbers\n",
    "    clean = clean.translate(str.maketrans('', '', digits))\n",
    "    hl_cleansed.append(clean)\n",
    "    \n",
    "# View comparison\n",
    "print('Original texts :')\n",
    "print(df['headline'][1])\n",
    "print('\\nAfter cleansed :')\n",
    "print(hl_cleansed[1])\n"
   ]
  },
  {
   "cell_type": "code",
   "execution_count": 358,
   "metadata": {},
   "outputs": [
    {
     "name": "stdout",
     "output_type": "stream",
     "text": [
      "Before tokenization :\n",
      "the roseanne revival catches up to our thorny political mood for better and worse\n",
      "\n",
      "After tokenization :\n",
      "['the', 'roseanne', 'revival', 'catches', 'up', 'to', 'our', 'thorny', 'political', 'mood', 'for', 'better', 'and', 'worse']\n"
     ]
    }
   ],
   "source": [
    "# Tokenization process\n",
    "hl_tokens = []\n",
    "for hl in hl_cleansed:\n",
    "    hl_tokens.append(hl.split())\n",
    "\n",
    "# View Comparison\n",
    "index = 1\n",
    "print('Before tokenization :')\n",
    "print(hl_cleansed[index])\n",
    "print('\\nAfter tokenization :')\n",
    "print(hl_tokens[index])"
   ]
  },
  {
   "cell_type": "code",
   "execution_count": 359,
   "metadata": {},
   "outputs": [
    {
     "name": "stdout",
     "output_type": "stream",
     "text": [
      "Before lemmatization :\t ['skyrim', 'dragons', 'are', 'having', 'parties']\n",
      "After lemmatization :\t ['skyrim', 'dragon', 'be', 'have', 'party']\n"
     ]
    }
   ],
   "source": [
    "#lemmatization\n",
    "import nltk\n",
    "from nltk.corpus import wordnet\n",
    "from nltk.stem import WordNetLemmatizer\n",
    "\n",
    "def get_wordnet_pos(word):\n",
    "    \"\"\"Map POS tag to first character lemmatize() accepts\"\"\"\n",
    "    tag = nltk.pos_tag([word])[0][1][0].upper()\n",
    "    tag_dict = {\"J\": wordnet.ADJ,\n",
    "                \"N\": wordnet.NOUN,\n",
    "                \"V\": wordnet.VERB,\n",
    "                \"R\": wordnet.ADV}\n",
    "\n",
    "    return tag_dict.get(tag, wordnet.NOUN)\n",
    "\n",
    "# Init Lemmatizer\n",
    "lemmatizer = WordNetLemmatizer()\n",
    "\n",
    "hl_lemmatized = []\n",
    "for tokens in hl_tokens:\n",
    "    lemm = [lemmatizer.lemmatize(w, get_wordnet_pos(w)) for w in tokens]\n",
    "    hl_lemmatized.append(lemm)\n",
    "    \n",
    "# Example comparison\n",
    "word_1 = ['skyrim','dragons', 'are', 'having', 'parties']\n",
    "word_2 = [lemmatizer.lemmatize(w, get_wordnet_pos(w)) for w in word_1]\n",
    "print('Before lemmatization :\\t',word_1)\n",
    "print('After lemmatization :\\t',word_2)"
   ]
  },
  {
   "cell_type": "code",
   "execution_count": 360,
   "metadata": {},
   "outputs": [
    {
     "name": "stdout",
     "output_type": "stream",
     "text": [
      "[[   0    0    0 ... 1890    7 1985]\n",
      " [   0    0    0 ...  166    9  145]\n",
      " [   0    0  105 ...   41   14    1]\n",
      " ...\n",
      " [   0    0    0 ...    0    9   73]\n",
      " [   0    0    0 ...  686  715  425]\n",
      " [   0    0    0 ...  432    7    3]]\n"
     ]
    }
   ],
   "source": [
    "#preparing the data\n",
    "from keras.preprocessing.text import Tokenizer\n",
    "from keras.preprocessing import sequence\n",
    "from keras.preprocessing.sequence import pad_sequences\n",
    "import numpy as np\n",
    "\n",
    "# Vectorize and convert text into sequences\n",
    "max_features = 2000\n",
    "max_token = len(max(hl_lemmatized))\n",
    "tokenizer = Tokenizer(num_words=max_features)\n",
    "tokenizer.fit_on_texts(hl_lemmatized)\n",
    "sequences = tokenizer.texts_to_sequences(hl_lemmatized)\n",
    "X = pad_sequences(sequences, maxlen=max_token)\n",
    "print(X)"
   ]
  },
  {
   "cell_type": "code",
   "execution_count": 361,
   "metadata": {},
   "outputs": [
    {
     "name": "stdout",
     "output_type": "stream",
     "text": [
      "Before :\n",
      "['mom', 'start', 'to', 'fear', 'son', 'web', 'series', 'closest', 'thing', 'she', 'will', 'have', 'to', 'grandchild'] \n",
      "\n",
      "After sequences convertion :\n",
      "[105, 219, 1, 504, 235, 1986, 620, 70, 159, 41, 14, 1] \n",
      "\n",
      "After padding :\n",
      "[   0    0  105  219    1  504  235 1986  620   70  159   41   14    1]\n"
     ]
    },
    {
     "data": {
      "text/plain": [
       "(26709, 14)"
      ]
     },
     "execution_count": 361,
     "metadata": {},
     "output_type": "execute_result"
    }
   ],
   "source": [
    "#To check the convertion\n",
    "index = 2\n",
    "print('Before :')\n",
    "print(hl_lemmatized[index],'\\n')\n",
    "print('After sequences convertion :')\n",
    "print(sequences[index],'\\n')\n",
    "print('After padding :')\n",
    "print(X[index])\n",
    "X.shape"
   ]
  },
  {
   "cell_type": "code",
   "execution_count": 362,
   "metadata": {},
   "outputs": [],
   "source": [
    "#Spiliting of X to train the model\n",
    "#As X was in concat form of both train and test file \n",
    "X1 = X[0:24209,:]\n",
    "X2 = X[24209:,:]"
   ]
  },
  {
   "cell_type": "code",
   "execution_count": 363,
   "metadata": {},
   "outputs": [
    {
     "data": {
      "text/plain": [
       "(24209, 14)"
      ]
     },
     "execution_count": 363,
     "metadata": {},
     "output_type": "execute_result"
    }
   ],
   "source": [
    "X1.shape"
   ]
  },
  {
   "cell_type": "code",
   "execution_count": 364,
   "metadata": {},
   "outputs": [],
   "source": [
    "#Spliting of the training and testing data to build a the model\n",
    "from sklearn.model_selection import train_test_split\n",
    "\n",
    "Y = df_train['is_sarcastic'].values\n",
    "Y = np.vstack(Y)\n",
    "X_train,X_test,Y_train,Y_test = train_test_split(X1,Y,test_size=0.3, random_state = 42)"
   ]
  },
  {
   "cell_type": "code",
   "execution_count": 365,
   "metadata": {},
   "outputs": [
    {
     "data": {
      "text/plain": [
       "(24209, 1)"
      ]
     },
     "execution_count": 365,
     "metadata": {},
     "output_type": "execute_result"
    }
   ],
   "source": [
    "Y.shape"
   ]
  },
  {
   "cell_type": "code",
   "execution_count": 366,
   "metadata": {},
   "outputs": [
    {
     "data": {
      "text/plain": [
       "(2500, 14)"
      ]
     },
     "execution_count": 366,
     "metadata": {},
     "output_type": "execute_result"
    }
   ],
   "source": [
    "X2.shape"
   ]
  },
  {
   "cell_type": "code",
   "execution_count": 367,
   "metadata": {},
   "outputs": [
    {
     "data": {
      "text/plain": [
       "(16946, 14)"
      ]
     },
     "execution_count": 367,
     "metadata": {},
     "output_type": "execute_result"
    }
   ],
   "source": [
    "X_train.shape\n"
   ]
  },
  {
   "cell_type": "code",
   "execution_count": 368,
   "metadata": {},
   "outputs": [
    {
     "data": {
      "text/plain": [
       "(16946, 1)"
      ]
     },
     "execution_count": 368,
     "metadata": {},
     "output_type": "execute_result"
    }
   ],
   "source": [
    "Y_train.shape"
   ]
  },
  {
   "cell_type": "code",
   "execution_count": 369,
   "metadata": {},
   "outputs": [
    {
     "name": "stdout",
     "output_type": "stream",
     "text": [
      "_________________________________________________________________\n",
      "Layer (type)                 Output Shape              Param #   \n",
      "=================================================================\n",
      "embedding_10 (Embedding)     (None, 14, 64)            128000    \n",
      "_________________________________________________________________\n",
      "lstm_10 (LSTM)               (None, 96)                61824     \n",
      "_________________________________________________________________\n",
      "dense_10 (Dense)             (None, 1)                 97        \n",
      "_________________________________________________________________\n",
      "activation_10 (Activation)   (None, 1)                 0         \n",
      "=================================================================\n",
      "Total params: 189,921\n",
      "Trainable params: 189,921\n",
      "Non-trainable params: 0\n",
      "_________________________________________________________________\n",
      "None\n"
     ]
    }
   ],
   "source": [
    "#model bulding\n",
    "from keras.layers import LSTM, Activation, Dense, Dropout, Input, Embedding\n",
    "from keras.optimizers import RMSprop\n",
    "from keras.models import Sequential\n",
    "from keras.layers import Dense, Embedding, LSTM, SpatialDropout1D\n",
    "\n",
    "embed_dim = 64\n",
    "\n",
    "model = Sequential()\n",
    "model.add(Embedding(max_features, embed_dim,input_length = max_token))\n",
    "model.add(LSTM(96, dropout=0.2, recurrent_dropout=0.2, activation='relu'))\n",
    "# model.add(Dense(128))\n",
    "# model.add(Activation('relu'))\n",
    "# model.add(Dropout(0.5))\n",
    "model.add(Dense(1))\n",
    "model.add(Activation('sigmoid'))\n",
    "\n",
    "model.compile(loss = 'binary_crossentropy', optimizer='adam',metrics = ['accuracy'])\n",
    "print(model.summary())"
   ]
  },
  {
   "cell_type": "code",
   "execution_count": 370,
   "metadata": {},
   "outputs": [
    {
     "name": "stdout",
     "output_type": "stream",
     "text": [
      "Epoch 1/8\n",
      " - 24s - loss: 0.5963 - acc: 0.6497\n",
      "Epoch 2/8\n",
      " - 4s - loss: 0.3923 - acc: 0.8307\n",
      "Epoch 3/8\n",
      " - 4s - loss: 0.3419 - acc: 0.8516\n",
      "Epoch 4/8\n",
      " - 4s - loss: 0.3199 - acc: 0.8617\n",
      "Epoch 5/8\n",
      " - 4s - loss: 0.3055 - acc: 0.8708\n",
      "Epoch 6/8\n",
      " - 4s - loss: 0.2938 - acc: 0.8778\n",
      "Epoch 7/8\n",
      " - 4s - loss: 0.2865 - acc: 0.8776\n",
      "Epoch 8/8\n",
      " - 4s - loss: 0.2716 - acc: 0.8855\n"
     ]
    },
    {
     "data": {
      "text/plain": [
       "<keras.callbacks.History at 0x7fc5e61335f8>"
      ]
     },
     "execution_count": 370,
     "metadata": {},
     "output_type": "execute_result"
    }
   ],
   "source": [
    "#training process\n",
    "epoch = 8\n",
    "batch_size = 200\n",
    "model.fit(X_train, Y_train, epochs = epoch, batch_size=batch_size, verbose = 2)"
   ]
  },
  {
   "cell_type": "code",
   "execution_count": 371,
   "metadata": {},
   "outputs": [
    {
     "name": "stdout",
     "output_type": "stream",
     "text": [
      "Overall scores\n",
      "Loss\t\t:  0.397\n",
      "Accuracy\t:  0.834\n"
     ]
    }
   ],
   "source": [
    "#test model\n",
    "loss, acc = model.evaluate(X_test, Y_test, verbose=2)\n",
    "print(\"Overall scores\")\n",
    "print(\"Loss\\t\\t: \", round(loss, 3))\n",
    "print(\"Accuracy\\t: \", round(acc, 3))\n"
   ]
  },
  {
   "cell_type": "code",
   "execution_count": 372,
   "metadata": {},
   "outputs": [],
   "source": [
    "pos_cnt, neg_cnt, pos_correct, neg_correct = 0, 0, 0, 0\n",
    "for x in range(len(X_test)):\n",
    "    \n",
    "    result = model.predict(X_test[x].reshape(1,X_test.shape[1]),batch_size=1,verbose = 2)[0]\n",
    "   \n",
    "    if np.around(result) == np.around(Y_test[x]):\n",
    "        if np.around(Y_test[x]) == 0:\n",
    "            neg_correct += 1\n",
    "        else:\n",
    "            pos_correct += 1\n",
    "       \n",
    "    if np.around(Y_test[x]) == 0:\n",
    "        neg_cnt += 1\n",
    "    else:\n",
    "        pos_cnt += 1"
   ]
  },
  {
   "cell_type": "code",
   "execution_count": 373,
   "metadata": {},
   "outputs": [
    {
     "name": "stdout",
     "output_type": "stream",
     "text": [
      "Sarcasm accuracy\t:  81.455 %\n",
      "Non-sarcasm accuracy\t:  84.83 %\n"
     ]
    }
   ],
   "source": [
    "print(\"Sarcasm accuracy\\t: \", round(pos_correct/pos_cnt*100, 3),\"%\")\n",
    "print(\"Non-sarcasm accuracy\\t: \", round(neg_correct/neg_cnt*100, 3),\"%\")"
   ]
  },
  {
   "cell_type": "code",
   "execution_count": 374,
   "metadata": {},
   "outputs": [],
   "source": [
    "ypred = model.predict(X2)\n"
   ]
  },
  {
   "cell_type": "code",
   "execution_count": 375,
   "metadata": {},
   "outputs": [],
   "source": [
    "ypred1 = pd.DataFrame(ypred)"
   ]
  },
  {
   "cell_type": "code",
   "execution_count": 376,
   "metadata": {},
   "outputs": [],
   "source": [
    "ypred1.to_csv('pred.csv')"
   ]
  }
 ],
 "metadata": {
  "kernelspec": {
   "display_name": "Python 3",
   "language": "python",
   "name": "python3"
  },
  "language_info": {
   "codemirror_mode": {
    "name": "ipython",
    "version": 3
   },
   "file_extension": ".py",
   "mimetype": "text/x-python",
   "name": "python",
   "nbconvert_exporter": "python",
   "pygments_lexer": "ipython3",
   "version": "3.7.1"
  }
 },
 "nbformat": 4,
 "nbformat_minor": 2
}
